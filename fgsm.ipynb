{
 "cells": [
  {
   "cell_type": "code",
   "execution_count": 56,
   "metadata": {},
   "outputs": [],
   "source": [
    "# 分类模型训练"
   ]
  },
  {
   "cell_type": "code",
   "execution_count": 2,
   "metadata": {},
   "outputs": [],
   "source": [
    "import torch\n",
    "from torch import nn\n",
    "import torchvision\n",
    "from torchvision import datasets, transforms\n",
    "from torch.utils.data import DataLoader\n",
    "\n",
    "import matplotlib.pyplot as plt"
   ]
  },
  {
   "cell_type": "code",
   "execution_count": 5,
   "metadata": {},
   "outputs": [],
   "source": [
    "def get_data_loader(root, batch_size, for_train=True):\n",
    "    transform = transforms.Compose([\n",
    "        transforms.ToTensor(),\n",
    "        transforms.Normalize((0.1307), (0.3081))\n",
    "    ])\n",
    "    \n",
    "    dataset = datasets.MNIST(\n",
    "        root = root,\n",
    "        train = for_train,\n",
    "        transform = transform,\n",
    "        download=True\n",
    "    )\n",
    "    \n",
    "    loader = DataLoader(\n",
    "        dataset=dataset,\n",
    "        batch_size=batch_size,\n",
    "        shuffle=for_train\n",
    "    )\n",
    "    \n",
    "    return loader"
   ]
  },
  {
   "cell_type": "code",
   "execution_count": 6,
   "metadata": {},
   "outputs": [],
   "source": [
    "class Net(nn.Module):\n",
    "    def __init__(self):\n",
    "        super(Net, self).__init__()\n",
    "        \n",
    "        # 1. (b, 1, 28, 28) -> (b, 16, 24, 24) -> (b, 16, 12, 12)\n",
    "        self.block1 = nn.Sequential(\n",
    "            nn.Conv2d(1, 16, 5),\n",
    "            nn.MaxPool2d(2),\n",
    "            nn.ReLU()\n",
    "        )\n",
    "        \n",
    "        # 2. (b, 16, 12, 12) -> dropout ->(b, 32, 10, 10) -> (b, 32, 5, 5)\n",
    "        self.block2 = nn.Sequential(\n",
    "            nn.Conv2d(16, 32, 3),\n",
    "            nn.Dropout2d(),\n",
    "            nn.MaxPool2d(2),\n",
    "            nn.ReLU()\n",
    "        )\n",
    "        \n",
    "        # 3. (b, 800) -> (b, 160)\n",
    "        self.fc1 = nn.Sequential(\n",
    "            nn.Linear(800, 160),\n",
    "            nn.ReLU(),\n",
    "            nn.Dropout()\n",
    "        )\n",
    "        \n",
    "        # 4. (b, 160) -> (b, 10)\n",
    "        self.fc2 = nn.Sequential(\n",
    "            nn.Linear(160, 10),\n",
    "            nn.LogSoftmax(dim=-1)\n",
    "        )\n",
    "        \n",
    "    def forward(self, x):\n",
    "        \"\"\"\n",
    "        x: (batch_size, 1, 28, 28)\n",
    "        \"\"\"\n",
    "        x = self.block1(x)\n",
    "        x = self.block2(x)\n",
    "        x = x.view(x.shape[0], -1)\n",
    "        x = self.fc1(x)\n",
    "        x = self.fc2(x)\n",
    "        return x"
   ]
  },
  {
   "cell_type": "code",
   "execution_count": 9,
   "metadata": {},
   "outputs": [],
   "source": [
    "def test(net, test_loader):\n",
    "    net.eval()\n",
    "    test_loss = 0\n",
    "    correct = 0\n",
    "    length = 0\n",
    "    with torch.no_grad():\n",
    "        for x, y in test_loader:\n",
    "            y_hat = net(x)\n",
    "            # print(x.shape, y.shape, y_hat.shape)\n",
    "            test_loss += nn.functional.nll_loss(y_hat, y)\n",
    "            pred = torch.argmax(y_hat, dim=-1)\n",
    "            correct += torch.eq(pred, y).sum()\n",
    "            length += pred.numel()\n",
    "        print(\"total correct rate: {}\\n\".format(correct / length))\n",
    "    return correct / length\n",
    "\n",
    "def train(net, optimizer, n_epochs, train_loader, test_loader, log_interval):\n",
    "    train_loss = []\n",
    "    \n",
    "    for epoch in range(n_epochs):\n",
    "        net.train()\n",
    "        for index, (x, y) in enumerate(train_loader):\n",
    "            optimizer.zero_grad()\n",
    "            y_hat = net(x)\n",
    "            loss = nn.functional.nll_loss(y_hat, y)\n",
    "            loss.backward()\n",
    "            optimizer.step()\n",
    "            \n",
    "            if index % log_interval == 0:\n",
    "                print(\"epoch: {}\\t batch: {}\\t loss: {}\".format(epoch, index, loss.item()))\n",
    "                train_loss.append(loss.item())\n",
    "\n",
    "        torch.save(net.state_dict(), \"./model.pth\")\n",
    "\n",
    "        test(net, test_loader)\n",
    "        \n",
    "    return train_loss"
   ]
  },
  {
   "cell_type": "code",
   "execution_count": 11,
   "metadata": {},
   "outputs": [
    {
     "data": {
      "text/plain": [
       "<torch._C.Generator at 0x7eff1478a030>"
      ]
     },
     "execution_count": 11,
     "metadata": {},
     "output_type": "execute_result"
    }
   ],
   "source": [
    "batch_size_train = 64\n",
    "batch_size_test = 10000\n",
    "n_epochs = 5\n",
    "learning_rate = 0.01\n",
    "momentum = 0.5\n",
    "log_interval = 20\n",
    "random_seed = 1\n",
    "torch.manual_seed(random_seed)"
   ]
  },
  {
   "cell_type": "code",
   "execution_count": 12,
   "metadata": {},
   "outputs": [
    {
     "name": "stdout",
     "output_type": "stream",
     "text": [
      "epoch: 0, batch: 0, loss: 2.3077845573425293\n",
      "epoch: 0, batch: 20, loss: 2.2543296813964844\n",
      "epoch: 0, batch: 40, loss: 2.219815969467163\n",
      "epoch: 0, batch: 60, loss: 2.1035385131835938\n",
      "epoch: 0, batch: 80, loss: 1.8287943601608276\n",
      "epoch: 0, batch: 100, loss: 1.4423524141311646\n",
      "epoch: 0, batch: 120, loss: 1.0698721408843994\n",
      "epoch: 0, batch: 140, loss: 1.1722277402877808\n",
      "epoch: 0, batch: 160, loss: 0.9615517854690552\n",
      "epoch: 0, batch: 180, loss: 0.6868805885314941\n",
      "epoch: 0, batch: 200, loss: 0.8532083034515381\n",
      "epoch: 0, batch: 220, loss: 0.6713714003562927\n",
      "epoch: 0, batch: 240, loss: 0.6038135886192322\n",
      "epoch: 0, batch: 260, loss: 0.846162736415863\n",
      "epoch: 0, batch: 280, loss: 0.5345088839530945\n",
      "epoch: 0, batch: 300, loss: 0.5540302991867065\n",
      "epoch: 0, batch: 320, loss: 0.5837243795394897\n",
      "epoch: 0, batch: 340, loss: 0.49168822169303894\n",
      "epoch: 0, batch: 360, loss: 0.5275545716285706\n",
      "epoch: 0, batch: 380, loss: 0.5368872880935669\n",
      "epoch: 0, batch: 400, loss: 0.40501806139945984\n",
      "epoch: 0, batch: 420, loss: 0.4746144115924835\n",
      "epoch: 0, batch: 440, loss: 0.4876817464828491\n",
      "epoch: 0, batch: 460, loss: 0.5322809219360352\n",
      "epoch: 0, batch: 480, loss: 0.406648725271225\n",
      "epoch: 0, batch: 500, loss: 0.28407204151153564\n",
      "epoch: 0, batch: 520, loss: 0.35265854001045227\n",
      "epoch: 0, batch: 540, loss: 0.2747003734111786\n",
      "epoch: 0, batch: 560, loss: 0.5208778381347656\n",
      "epoch: 0, batch: 580, loss: 0.4984716475009918\n",
      "epoch: 0, batch: 600, loss: 0.307683527469635\n",
      "epoch: 0, batch: 620, loss: 0.5812892913818359\n",
      "epoch: 0, batch: 640, loss: 0.4177972078323364\n",
      "epoch: 0, batch: 660, loss: 0.33186110854148865\n",
      "epoch: 0, batch: 680, loss: 0.6528480052947998\n",
      "epoch: 0, batch: 700, loss: 0.2906312942504883\n",
      "epoch: 0, batch: 720, loss: 0.21969279646873474\n",
      "epoch: 0, batch: 740, loss: 0.38734012842178345\n",
      "epoch: 0, batch: 760, loss: 0.26303720474243164\n",
      "epoch: 0, batch: 780, loss: 0.2693400979042053\n",
      "epoch: 0, batch: 800, loss: 0.19234919548034668\n",
      "epoch: 0, batch: 820, loss: 0.2052008956670761\n",
      "epoch: 0, batch: 840, loss: 0.30657827854156494\n",
      "epoch: 0, batch: 860, loss: 0.3012416958808899\n",
      "epoch: 0, batch: 880, loss: 0.34474486112594604\n",
      "epoch: 0, batch: 900, loss: 0.2814720571041107\n",
      "epoch: 0, batch: 920, loss: 0.40253713726997375\n",
      "\n",
      "total correct rate: 0.9555000066757202\n",
      "epoch: 1, batch: 0, loss: 0.5386812686920166\n",
      "epoch: 1, batch: 20, loss: 0.25984254479408264\n",
      "epoch: 1, batch: 40, loss: 0.40793925523757935\n",
      "epoch: 1, batch: 60, loss: 0.28429722785949707\n",
      "epoch: 1, batch: 80, loss: 0.14615631103515625\n",
      "epoch: 1, batch: 100, loss: 0.2251335233449936\n",
      "epoch: 1, batch: 120, loss: 0.18069450557231903\n",
      "epoch: 1, batch: 140, loss: 0.17451944947242737\n",
      "epoch: 1, batch: 160, loss: 0.32382065057754517\n",
      "epoch: 1, batch: 180, loss: 0.27325648069381714\n",
      "epoch: 1, batch: 200, loss: 0.4433649778366089\n",
      "epoch: 1, batch: 220, loss: 0.1965446174144745\n",
      "epoch: 1, batch: 240, loss: 0.2552731931209564\n",
      "epoch: 1, batch: 260, loss: 0.2438662052154541\n",
      "epoch: 1, batch: 280, loss: 0.14657874405384064\n",
      "epoch: 1, batch: 300, loss: 0.26773419976234436\n",
      "epoch: 1, batch: 320, loss: 0.3524707555770874\n",
      "epoch: 1, batch: 340, loss: 0.2192595899105072\n",
      "epoch: 1, batch: 360, loss: 0.3078601062297821\n",
      "epoch: 1, batch: 380, loss: 0.20430319011211395\n",
      "epoch: 1, batch: 400, loss: 0.1288323998451233\n",
      "epoch: 1, batch: 420, loss: 0.25685977935791016\n",
      "epoch: 1, batch: 440, loss: 0.2544781267642975\n",
      "epoch: 1, batch: 460, loss: 0.17128844559192657\n",
      "epoch: 1, batch: 480, loss: 0.20037323236465454\n",
      "epoch: 1, batch: 500, loss: 0.15422287583351135\n",
      "epoch: 1, batch: 520, loss: 0.19448846578598022\n",
      "epoch: 1, batch: 540, loss: 0.23049688339233398\n",
      "epoch: 1, batch: 560, loss: 0.3838168978691101\n",
      "epoch: 1, batch: 580, loss: 0.05151888728141785\n",
      "epoch: 1, batch: 600, loss: 0.3258037269115448\n",
      "epoch: 1, batch: 620, loss: 0.24165524542331696\n",
      "epoch: 1, batch: 640, loss: 0.1641874462366104\n",
      "epoch: 1, batch: 660, loss: 0.1640375554561615\n",
      "epoch: 1, batch: 680, loss: 0.09624821692705154\n",
      "epoch: 1, batch: 700, loss: 0.14648115634918213\n",
      "epoch: 1, batch: 720, loss: 0.31119784712791443\n",
      "epoch: 1, batch: 740, loss: 0.24127134680747986\n",
      "epoch: 1, batch: 760, loss: 0.2801962196826935\n",
      "epoch: 1, batch: 780, loss: 0.26169121265411377\n",
      "epoch: 1, batch: 800, loss: 0.10669923573732376\n",
      "epoch: 1, batch: 820, loss: 0.19186167418956757\n",
      "epoch: 1, batch: 840, loss: 0.054483480751514435\n",
      "epoch: 1, batch: 860, loss: 0.21976718306541443\n",
      "epoch: 1, batch: 880, loss: 0.3266172409057617\n",
      "epoch: 1, batch: 900, loss: 0.22809869050979614\n",
      "epoch: 1, batch: 920, loss: 0.26710307598114014\n",
      "\n",
      "total correct rate: 0.9728000164031982\n",
      "epoch: 2, batch: 0, loss: 0.10299090296030045\n",
      "epoch: 2, batch: 20, loss: 0.07095500826835632\n",
      "epoch: 2, batch: 40, loss: 0.13945047557353973\n",
      "epoch: 2, batch: 60, loss: 0.13653847575187683\n",
      "epoch: 2, batch: 80, loss: 0.2083221822977066\n",
      "epoch: 2, batch: 100, loss: 0.1472623646259308\n",
      "epoch: 2, batch: 120, loss: 0.5641843676567078\n",
      "epoch: 2, batch: 140, loss: 0.16771776974201202\n",
      "epoch: 2, batch: 160, loss: 0.15065167844295502\n",
      "epoch: 2, batch: 180, loss: 0.051557864993810654\n",
      "epoch: 2, batch: 200, loss: 0.13512836396694183\n",
      "epoch: 2, batch: 220, loss: 0.22502058744430542\n",
      "epoch: 2, batch: 240, loss: 0.25829336047172546\n",
      "epoch: 2, batch: 260, loss: 0.17187532782554626\n",
      "epoch: 2, batch: 280, loss: 0.08819416910409927\n",
      "epoch: 2, batch: 300, loss: 0.2646416127681732\n",
      "epoch: 2, batch: 320, loss: 0.11910861730575562\n",
      "epoch: 2, batch: 340, loss: 0.129984050989151\n",
      "epoch: 2, batch: 360, loss: 0.10911940038204193\n",
      "epoch: 2, batch: 380, loss: 0.19095565378665924\n",
      "epoch: 2, batch: 400, loss: 0.14956913888454437\n",
      "epoch: 2, batch: 420, loss: 0.13982276618480682\n",
      "epoch: 2, batch: 440, loss: 0.25397688150405884\n",
      "epoch: 2, batch: 460, loss: 0.164730042219162\n",
      "epoch: 2, batch: 480, loss: 0.1595693677663803\n",
      "epoch: 2, batch: 500, loss: 0.11467351764440536\n",
      "epoch: 2, batch: 520, loss: 0.1313120722770691\n",
      "epoch: 2, batch: 540, loss: 0.1712125688791275\n",
      "epoch: 2, batch: 560, loss: 0.33058667182922363\n",
      "epoch: 2, batch: 580, loss: 0.12825405597686768\n",
      "epoch: 2, batch: 600, loss: 0.16735945641994476\n",
      "epoch: 2, batch: 620, loss: 0.2644040882587433\n",
      "epoch: 2, batch: 640, loss: 0.1251354068517685\n",
      "epoch: 2, batch: 660, loss: 0.10799061506986618\n",
      "epoch: 2, batch: 680, loss: 0.31394365429878235\n",
      "epoch: 2, batch: 700, loss: 0.05834605544805527\n",
      "epoch: 2, batch: 720, loss: 0.12027141451835632\n",
      "epoch: 2, batch: 740, loss: 0.20043407380580902\n",
      "epoch: 2, batch: 760, loss: 0.28521987795829773\n",
      "epoch: 2, batch: 780, loss: 0.10529569536447525\n",
      "epoch: 2, batch: 800, loss: 0.1058589369058609\n",
      "epoch: 2, batch: 820, loss: 0.310822069644928\n",
      "epoch: 2, batch: 840, loss: 0.2570793330669403\n",
      "epoch: 2, batch: 860, loss: 0.07080311328172684\n",
      "epoch: 2, batch: 880, loss: 0.2160646766424179\n",
      "epoch: 2, batch: 900, loss: 0.15359382331371307\n",
      "epoch: 2, batch: 920, loss: 0.22627198696136475\n",
      "\n",
      "total correct rate: 0.9768999814987183\n",
      "epoch: 3, batch: 0, loss: 0.08615002036094666\n",
      "epoch: 3, batch: 20, loss: 0.14778727293014526\n",
      "epoch: 3, batch: 40, loss: 0.13249431550502777\n",
      "epoch: 3, batch: 60, loss: 0.18907040357589722\n",
      "epoch: 3, batch: 80, loss: 0.18010535836219788\n",
      "epoch: 3, batch: 100, loss: 0.12969467043876648\n",
      "epoch: 3, batch: 120, loss: 0.2510485053062439\n",
      "epoch: 3, batch: 140, loss: 0.1057765930891037\n",
      "epoch: 3, batch: 160, loss: 0.14437228441238403\n",
      "epoch: 3, batch: 180, loss: 0.2134457528591156\n",
      "epoch: 3, batch: 200, loss: 0.12713748216629028\n",
      "epoch: 3, batch: 220, loss: 0.10770656913518906\n",
      "epoch: 3, batch: 240, loss: 0.13531093299388885\n",
      "epoch: 3, batch: 260, loss: 0.18169939517974854\n",
      "epoch: 3, batch: 280, loss: 0.1604783833026886\n",
      "epoch: 3, batch: 300, loss: 0.20268569886684418\n",
      "epoch: 3, batch: 320, loss: 0.06433986872434616\n",
      "epoch: 3, batch: 340, loss: 0.11879777908325195\n",
      "epoch: 3, batch: 360, loss: 0.15868738293647766\n",
      "epoch: 3, batch: 380, loss: 0.08549950271844864\n",
      "epoch: 3, batch: 400, loss: 0.08180535584688187\n",
      "epoch: 3, batch: 420, loss: 0.060999978333711624\n",
      "epoch: 3, batch: 440, loss: 0.11920327693223953\n",
      "epoch: 3, batch: 460, loss: 0.2151060551404953\n",
      "epoch: 3, batch: 480, loss: 0.18877603113651276\n",
      "epoch: 3, batch: 500, loss: 0.1032596305012703\n",
      "epoch: 3, batch: 520, loss: 0.34872230887413025\n",
      "epoch: 3, batch: 540, loss: 0.09661898761987686\n",
      "epoch: 3, batch: 560, loss: 0.06549020856618881\n",
      "epoch: 3, batch: 580, loss: 0.16252054274082184\n",
      "epoch: 3, batch: 600, loss: 0.14727255702018738\n",
      "epoch: 3, batch: 620, loss: 0.17897485196590424\n",
      "epoch: 3, batch: 640, loss: 0.13171818852424622\n",
      "epoch: 3, batch: 660, loss: 0.3762686252593994\n",
      "epoch: 3, batch: 680, loss: 0.15893182158470154\n",
      "epoch: 3, batch: 700, loss: 0.2212546318769455\n",
      "epoch: 3, batch: 720, loss: 0.1087714284658432\n",
      "epoch: 3, batch: 740, loss: 0.23340190947055817\n",
      "epoch: 3, batch: 760, loss: 0.03259241580963135\n",
      "epoch: 3, batch: 780, loss: 0.08158577978610992\n",
      "epoch: 3, batch: 800, loss: 0.07450640201568604\n",
      "epoch: 3, batch: 820, loss: 0.05406181141734123\n",
      "epoch: 3, batch: 840, loss: 0.045980457216501236\n",
      "epoch: 3, batch: 860, loss: 0.14649075269699097\n",
      "epoch: 3, batch: 880, loss: 0.14600923657417297\n",
      "epoch: 3, batch: 900, loss: 0.10100351274013519\n",
      "epoch: 3, batch: 920, loss: 0.24715077877044678\n",
      "\n",
      "total correct rate: 0.9807999730110168\n",
      "epoch: 4, batch: 0, loss: 0.11086425185203552\n",
      "epoch: 4, batch: 20, loss: 0.03404494747519493\n",
      "epoch: 4, batch: 40, loss: 0.09753866493701935\n",
      "epoch: 4, batch: 60, loss: 0.26508641242980957\n",
      "epoch: 4, batch: 80, loss: 0.21088796854019165\n",
      "epoch: 4, batch: 100, loss: 0.08600401878356934\n",
      "epoch: 4, batch: 120, loss: 0.07809720933437347\n",
      "epoch: 4, batch: 140, loss: 0.09358484297990799\n",
      "epoch: 4, batch: 160, loss: 0.14159934222698212\n",
      "epoch: 4, batch: 180, loss: 0.15089823305606842\n",
      "epoch: 4, batch: 200, loss: 0.23906661570072174\n",
      "epoch: 4, batch: 220, loss: 0.07708369940519333\n",
      "epoch: 4, batch: 240, loss: 0.12313234806060791\n",
      "epoch: 4, batch: 260, loss: 0.15225060284137726\n",
      "epoch: 4, batch: 280, loss: 0.5099954605102539\n",
      "epoch: 4, batch: 300, loss: 0.1668148636817932\n",
      "epoch: 4, batch: 320, loss: 0.1397360861301422\n",
      "epoch: 4, batch: 340, loss: 0.10920165479183197\n",
      "epoch: 4, batch: 360, loss: 0.21022027730941772\n",
      "epoch: 4, batch: 380, loss: 0.19060739874839783\n",
      "epoch: 4, batch: 400, loss: 0.048821888864040375\n",
      "epoch: 4, batch: 420, loss: 0.28649914264678955\n",
      "epoch: 4, batch: 440, loss: 0.11615970730781555\n",
      "epoch: 4, batch: 460, loss: 0.16013206541538239\n",
      "epoch: 4, batch: 480, loss: 0.10717152804136276\n",
      "epoch: 4, batch: 500, loss: 0.08958110213279724\n",
      "epoch: 4, batch: 520, loss: 0.04586535692214966\n",
      "epoch: 4, batch: 540, loss: 0.1288161277770996\n",
      "epoch: 4, batch: 560, loss: 0.10676702857017517\n",
      "epoch: 4, batch: 580, loss: 0.1295437216758728\n",
      "epoch: 4, batch: 600, loss: 0.21170465648174286\n",
      "epoch: 4, batch: 620, loss: 0.02494622766971588\n",
      "epoch: 4, batch: 640, loss: 0.2174750417470932\n",
      "epoch: 4, batch: 660, loss: 0.08656175434589386\n",
      "epoch: 4, batch: 680, loss: 0.10141154378652573\n",
      "epoch: 4, batch: 700, loss: 0.03339952602982521\n",
      "epoch: 4, batch: 720, loss: 0.086004339158535\n",
      "epoch: 4, batch: 740, loss: 0.15892280638217926\n",
      "epoch: 4, batch: 760, loss: 0.251906156539917\n",
      "epoch: 4, batch: 780, loss: 0.10159754008054733\n",
      "epoch: 4, batch: 800, loss: 0.11081871390342712\n",
      "epoch: 4, batch: 820, loss: 0.07238330692052841\n",
      "epoch: 4, batch: 840, loss: 0.14781352877616882\n",
      "epoch: 4, batch: 860, loss: 0.15393871068954468\n",
      "epoch: 4, batch: 880, loss: 0.07167625427246094\n",
      "epoch: 4, batch: 900, loss: 0.05284168943762779\n",
      "epoch: 4, batch: 920, loss: 0.10898423939943314\n",
      "\n",
      "total correct rate: 0.9837999939918518\n"
     ]
    }
   ],
   "source": [
    "train_loader = get_data_loader(\"./data\", batch_size_train)\n",
    "test_loader = get_data_loader(\"./data\", batch_size_test, for_train=False)\n",
    "\n",
    "net = Net()\n",
    "optimizer = torch.optim.SGD(net.parameters(), lr=learning_rate, momentum=momentum)\n",
    "\n",
    "history = train(net, optimizer, n_epochs, train_loader, test_loader, log_interval)"
   ]
  },
  {
   "cell_type": "code",
   "execution_count": 14,
   "metadata": {},
   "outputs": [
    {
     "data": {
      "text/plain": [
       "[<matplotlib.lines.Line2D at 0x7efed01f2d60>]"
      ]
     },
     "execution_count": 14,
     "metadata": {},
     "output_type": "execute_result"
    },
    {
     "data": {
      "image/png": "[encoded data removed]",
      "text/plain": [
       "<Figure size 432x288 with 1 Axes>"
      ]
     },
     "metadata": {
      "needs_background": "light"
     },
     "output_type": "display_data"
    }
   ],
   "source": [
    "plt.plot(list(range(len(history))), history)"
   ]
  },
  {
   "cell_type": "markdown",
   "metadata": {},
   "source": [
    "# FGSM 攻击"
   ]
  },
  {
   "cell_type": "code",
   "execution_count": 71,
   "metadata": {},
   "outputs": [],
   "source": [
    "def perturb_fgsm(epsilon):\n",
    "    def func(x):\n",
    "        \"\"\"\n",
    "        x: 样本\n",
    "        \"\"\"\n",
    "        sign_data_grad = x.grad.data.sign()\n",
    "        perturbed_image = x + epsilon * sign_data_grad\n",
    "        perturbed_image = torch.clamp(perturbed_image, 0, 1)\n",
    "        return perturbed_image\n",
    "    return func\n",
    "\n",
    "\n",
    "def test_and_attack(net, test_loader, perturb, flag_target=False, label=None):\n",
    "    \"\"\"生成对抗样本\n",
    "\n",
    "    Args:\n",
    "        net (): 网络\n",
    "        test_loader (): 测试集\n",
    "        perturb (): 扰动方法\n",
    "        flag_target (bool, optional): 是否确定攻击目标，若是，则攻击目标为，将图像错误识别为label参数指定的目标. Defaults to False.\n",
    "        label (int, optional): 指定攻击目标. Defaults to None.\n",
    "\n",
    "    Returns:\n",
    "        tuple: (攻击后的准确率， 对抗样本)\n",
    "    \"\"\"\n",
    "    adv_examples = []\n",
    "    first_correct_number = 0\n",
    "    total_number = 0\n",
    "    attack_success_number = 0\n",
    "    for x, target in test_loader:\n",
    "        total_number += 1\n",
    "        \n",
    "        x.requires_grad = True\n",
    "        output = net(x)\n",
    "        first_pred = torch.argmax(output, dim=-1)\n",
    "\n",
    "        if first_pred.item() == target.item():\n",
    "            # 预测对了，才进行攻击，否则不攻击\n",
    "            first_correct_number += 1\n",
    "            \n",
    "            if flag_target:\n",
    "                assert label is not None, \"指定label\"\n",
    "                # assert type(label)\n",
    "                loss = -nn.functional.nll_loss(output, torch.tensor(label).view_as(target))\n",
    "            else: \n",
    "                loss = nn.functional.nll_loss(output, target)\n",
    "            net.zero_grad()\n",
    "            loss.backward()\n",
    "            \n",
    "            perturbed_x = perturb(x)\n",
    "            output = net(perturbed_x)\n",
    "            second_pred = torch.argmax(output, dim=-1)\n",
    "            \n",
    "            if second_pred.item() == target.item():\n",
    "                # 攻击仍然失败\n",
    "                pass\n",
    "            else:\n",
    "                if flag_target:\n",
    "                    # 如果定目标攻击，只保存对特定目标的误判\n",
    "                    if second_pred.item() == label:\n",
    "                        # 攻击成功，最多保存10个成功案例用于分析\n",
    "                        attack_success_number += 1\n",
    "                        if (len(adv_examples) < 10):\n",
    "                            raw = x.squeeze().detach().cpu().numpy()\n",
    "                            adv = perturbed_x.squeeze().detach().cpu().numpy()\n",
    "                            adv_examples.append((first_pred.item(), second_pred.item(), raw, adv))\n",
    "                else:\n",
    "                    attack_success_number += 1\n",
    "                    if (len(adv_examples) < 10):\n",
    "                        raw = x.squeeze().detach().cpu().numpy()\n",
    "                        adv = perturbed_x.squeeze().detach().cpu().numpy()\n",
    "                        adv_examples.append((first_pred.item(), second_pred.item(), raw, adv))\n",
    "        \n",
    "    #计算准确率\n",
    "    s = \"total / attack / success: {} / {} / {} \\t total accuracy: {}\".format(\n",
    "        total_number, first_correct_number, attack_success_number, \n",
    "        (first_correct_number - attack_success_number) / total_number\n",
    "    )\n",
    "    print(s)\n",
    "    \n",
    "    #返回准确率和攻击样例\n",
    "    return (first_correct_number - attack_success_number) / total_number, adv_examples"
   ]
  },
  {
   "cell_type": "code",
   "execution_count": 74,
   "metadata": {},
   "outputs": [
    {
     "name": "stdout",
     "output_type": "stream",
     "text": [
      "\n",
      "total correct rate: 0.9837999939918518\n"
     ]
    }
   ],
   "source": [
    "pretrained_net = Net()\n",
    "pretrained_net.load_state_dict(torch.load(\"./model.pth\"))\n",
    "test(pretrained_net, get_data_loader(\"./data\", 10000, False))"
   ]
  },
  {
   "cell_type": "code",
   "execution_count": 75,
   "metadata": {},
   "outputs": [
    {
     "name": "stdout",
     "output_type": "stream",
     "text": [
      "args: epsilon 0.2\ttotal / attack / success: 10000 / 9838 / 134 \t total accuracy: 0.9704\n",
      "args: epsilon 0.25\ttotal / attack / success: 10000 / 9838 / 164 \t total accuracy: 0.9674\n",
      "args: epsilon 0.3\ttotal / attack / success: 10000 / 9838 / 202 \t total accuracy: 0.9636\n",
      "args: epsilon 0.35\ttotal / attack / success: 10000 / 9838 / 253 \t total accuracy: 0.9585\n",
      "args: epsilon 0.4\ttotal / attack / success: 10000 / 9838 / 311 \t total accuracy: 0.9527\n",
      "args: epsilon 0.5\ttotal / attack / success: 10000 / 9838 / 776 \t total accuracy: 0.9062\n"
     ]
    }
   ],
   "source": [
    "epsilons = [0.2, 0.25, 0.3, 0.35, 0.4, 0.5]\n",
    "\n",
    "accuracies = []\n",
    "examples = []\n",
    "for eps in epsilons:\n",
    "    print(\"args: epsilon {}\".format(eps), end=\"\\t\")\n",
    "    acc, ex = test_and_attack(\n",
    "        pretrained_net, \n",
    "        get_data_loader(\"./data\", 1, False), \n",
    "        perturb_fgsm(eps), \n",
    "        flag_target=False, \n",
    "        label=2\n",
    "    )\n",
    "    accuracies.append(acc)\n",
    "    examples.append(ex)"
   ]
  },
  {
   "cell_type": "code",
   "execution_count": 76,
   "metadata": {},
   "outputs": [
    {
     "name": "stdout",
     "output_type": "stream",
     "text": [
      "args: epsilon 0.2\ttotal / attack / success: 10000 / 9838 / 18 \t total accuracy: 0.982\n",
      "args: epsilon 0.25\ttotal / attack / success: 10000 / 9838 / 22 \t total accuracy: 0.9816\n",
      "args: epsilon 0.3\ttotal / attack / success: 10000 / 9838 / 29 \t total accuracy: 0.9809\n",
      "args: epsilon 0.35\ttotal / attack / success: 10000 / 9838 / 36 \t total accuracy: 0.9802\n",
      "args: epsilon 0.4\ttotal / attack / success: 10000 / 9838 / 47 \t total accuracy: 0.9791\n",
      "args: epsilon 0.5\ttotal / attack / success: 10000 / 9838 / 129 \t total accuracy: 0.9709\n"
     ]
    }
   ],
   "source": [
    "epsilons = [0.2, 0.25, 0.3, 0.35, 0.4, 0.5]\n",
    "\n",
    "accuracies = []\n",
    "examples = []\n",
    "for eps in epsilons:\n",
    "    print(\"args: epsilon {}\".format(eps), end=\"\\t\")\n",
    "    acc, ex = test_and_attack(\n",
    "        pretrained_net, \n",
    "        get_data_loader(\"./data\", 1, False), \n",
    "        perturb_fgsm(eps), \n",
    "        flag_target=True, \n",
    "        label=2\n",
    "    )\n",
    "    accuracies.append(acc)\n",
    "    examples.append(ex)"
   ]
  },
  {
   "cell_type": "code",
   "execution_count": 73,
   "metadata": {},
   "outputs": [
    {
     "data": {
      "image/png": "[encoded data removed]",
      "text/plain": [
       "<Figure size 432x288 with 3 Axes>"
      ]
     },
     "metadata": {
      "needs_background": "light"
     },
     "output_type": "display_data"
    },
    {
     "data": {
      "image/png": "[encoded data removed]",
      "text/plain": [
       "<Figure size 432x288 with 3 Axes>"
      ]
     },
     "metadata": {
      "needs_background": "light"
     },
     "output_type": "display_data"
    },
    {
     "data": {
      "image/png": "[encoded data removed]",
      "text/plain": [
       "<Figure size 432x288 with 3 Axes>"
      ]
     },
     "metadata": {
      "needs_background": "light"
     },
     "output_type": "display_data"
    },
    {
     "data": {
      "image/png": "[encoded data removed]",
      "text/plain": [
       "<Figure size 432x288 with 3 Axes>"
      ]
     },
     "metadata": {
      "needs_background": "light"
     },
     "output_type": "display_data"
    },
    {
     "data": {
      "image/png": "[encoded data removed]",
      "text/plain": [
       "<Figure size 432x288 with 3 Axes>"
      ]
     },
     "metadata": {
      "needs_background": "light"
     },
     "output_type": "display_data"
    },
    {
     "data": {
      "image/png": "[encoded data removed]",
      "text/plain": [
       "<Figure size 432x288 with 3 Axes>"
      ]
     },
     "metadata": {
      "needs_background": "light"
     },
     "output_type": "display_data"
    },
    {
     "data": {
      "image/png": "[encoded data removed]",
      "text/plain": [
       "<Figure size 432x288 with 3 Axes>"
      ]
     },
     "metadata": {
      "needs_background": "light"
     },
     "output_type": "display_data"
    },
    {
     "data": {
      "image/png": "[encoded data removed]",
      "text/plain": [
       "<Figure size 432x288 with 3 Axes>"
      ]
     },
     "metadata": {
      "needs_background": "light"
     },
     "output_type": "display_data"
    },
    {
     "data": {
      "image/png": "[encoded data removed]",
      "text/plain": [
       "<Figure size 432x288 with 3 Axes>"
      ]
     },
     "metadata": {
      "needs_background": "light"
     },
     "output_type": "display_data"
    },
    {
     "data": {
      "image/png": "[encoded data removed]",
      "text/plain": [
       "<Figure size 432x288 with 3 Axes>"
      ]
     },
     "metadata": {
      "needs_background": "light"
     },
     "output_type": "display_data"
    }
   ],
   "source": [
    "import numpy as np\n",
    "a = examples[0]\n",
    "for item in a:\n",
    "    f, ax = plt.subplots(1, 3)\n",
    "    \n",
    "    raw, per = item[2], item[3]\n",
    "    dif = per - raw\n",
    "    \n",
    "    ax[0].imshow(raw, cmap=\"gray\")\n",
    "    ax[0].set_title(\"result: {}\".format(item[0]))\n",
    "    ax[1].imshow(per, cmap=\"gray\")\n",
    "    ax[1].set_title(\"result: {}\".format(item[1]))\n",
    "    ax[2].imshow(dif, cmap=\"gray\")\n",
    "    \n",
    "    plt.show()\n"
   ]
  },
  {
   "cell_type": "code",
   "execution_count": null,
   "metadata": {},
   "outputs": [],
   "source": []
  }
 ],
 "metadata": {
  "interpreter": {
   "hash": "69cf07945e49730ae47ef67e7fe560dc46d26b6f5532501fc3cfc63bcf9ec543"
  },
  "kernelspec": {
   "display_name": "Python 3.9.7 64-bit ('base': conda)",
   "language": "python",
   "name": "python3"
  },
  "language_info": {
   "codemirror_mode": {
    "name": "ipython",
    "version": 3
   },
   "file_extension": ".py",
   "mimetype": "text/x-python",
   "name": "python",
   "nbconvert_exporter": "python",
   "pygments_lexer": "ipython3",
   "version": "3.9.7"
  },
  "orig_nbformat": 4
 },
 "nbformat": 4,
 "nbformat_minor": 2
}
